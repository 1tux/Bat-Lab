{
 "cells": [
  {
   "cell_type": "code",
   "execution_count": 1,
   "metadata": {},
   "outputs": [],
   "source": [
    "# generate data with noise\n",
    "# run model with upsampling twice:\n",
    "# 1. without cleaning phase\n",
    "# 2. with cleaning phase\n",
    "# compare results\n",
    "# do that for multiple neurons"
   ]
  },
  {
   "cell_type": "code",
   "execution_count": 2,
   "metadata": {},
   "outputs": [],
   "source": [
    "import sys\n",
    "sys.path.append(\"..\")"
   ]
  },
  {
   "cell_type": "code",
   "execution_count": 3,
   "metadata": {},
   "outputs": [],
   "source": [
    "import spike_gen\n",
    "import behavior_parse\n",
    "import pandas as pd"
   ]
  },
  {
   "cell_type": "code",
   "execution_count": 12,
   "metadata": {},
   "outputs": [],
   "source": [
    "df = pd.read_csv(\"../data/behavioral_data/parsed/b2305_d191220_simplified_behaviour.csv\")\n",
    "df = df.drop(columns=[\"Unnamed: 0\"])\n",
    "\n",
    "n1 = spike_gen.gaussian_place_cell(df, 65, 30, 20, 0)\n",
    "n1_prob = spike_gen.probabilistic_spike(n1, 0.8)\n",
    "n1_noisy = spike_gen.add_noise(n1_prob, 0.25)\n",
    "\n",
    "n2 = spike_gen.gaussian_place_cell(df, 65, 30, 20, 2) | spike_gen.gaussian_place_cell(df, 65, 30, 20, 3)\n",
    "n2_prob = spike_gen.probabilistic_spike(n2, 0.8)\n",
    "n2_noisy = spike_gen.add_noise(n2_prob, 0.25)\n",
    "\n",
    "n3 = spike_gen.gaussian_place_cell(df, 65, 30, 20, 2) | spike_gen.gaussian_place_cell(df, 65, 30, 20, 3) | spike_gen.gaussian_place_cell(df, 65, 30, 20, 1) | spike_gen.gaussian_place_cell(df, 65, 30, 20, 0) \n",
    "n3_prob = spike_gen.probabilistic_spike(n3, 0.8)\n",
    "n3_noisy = spike_gen.add_noise(n3_prob, 0.25)\n"
   ]
  },
  {
   "cell_type": "code",
   "execution_count": 13,
   "metadata": {},
   "outputs": [
    {
     "name": "stdout",
     "output_type": "stream",
     "text": [
      "firing rate: 8.934782608695652\n",
      "firing rate: 7.141304347826087\n",
      "firing rate: 8.76086956521739\n",
      "--------------------------------------------------------------------------------\n",
      "firing rate: 10.54945652173913\n",
      "firing rate: 8.469565217391304\n",
      "firing rate: 10.349456521739132\n",
      "firing rate: 26.96358695652174\n",
      "firing rate: 21.617934782608693\n",
      "firing rate: 25.83913043478261\n"
     ]
    }
   ],
   "source": [
    "print(\"firing rate:\", n1.mean() * 100)\n",
    "print(\"firing rate:\", n1_prob.mean() * 100)\n",
    "print(\"firing rate:\", n1_noisy.mean() * 100)\n",
    "\n",
    "print(\"-\" * 80)\n",
    "\n",
    "print(\"firing rate:\", n2.mean() * 100)\n",
    "print(\"firing rate:\", n2_prob.mean() * 100)\n",
    "print(\"firing rate:\", n2_noisy.mean() * 100)\n",
    "\n",
    "print(\"firing rate:\", n3.mean() * 100)\n",
    "print(\"firing rate:\", n3_prob.mean() * 100)\n",
    "print(\"firing rate:\", n3_noisy.mean() * 100)"
   ]
  },
  {
   "cell_type": "code",
   "execution_count": 15,
   "metadata": {},
   "outputs": [],
   "source": [
    "n1_noisy.to_csv(\"../data/neural_data/simulated/1337_b2305_d191220.csv\")\n",
    "n2_noisy.to_csv(\"../data/neural_data/simulated/1338_b2305_d191220.csv\")\n",
    "n3_noisy.to_csv(\"../data/neural_data/simulated/1339_b2305_d191220.csv\")"
   ]
  }
 ],
 "metadata": {
  "kernelspec": {
   "display_name": "Python 3",
   "language": "python",
   "name": "python3"
  },
  "language_info": {
   "codemirror_mode": {
    "name": "ipython",
    "version": 3
   },
   "file_extension": ".py",
   "mimetype": "text/x-python",
   "name": "python",
   "nbconvert_exporter": "python",
   "pygments_lexer": "ipython3",
   "version": "3.8.6"
  }
 },
 "nbformat": 4,
 "nbformat_minor": 4
}
